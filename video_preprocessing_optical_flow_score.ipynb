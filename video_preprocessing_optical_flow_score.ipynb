{
 "cells": [
  {
   "cell_type": "code",
   "execution_count": 1,
   "id": "d6935d14-9422-40b5-8615-dbc4a30672e0",
   "metadata": {},
   "outputs": [],
   "source": [
    "import cv2\n",
    "import numpy as np\n",
    "\n",
    "def extract_frames(video_path, fps=2):\n",
    "    cap = cv2.VideoCapture(video_path)\n",
    "    frame_rate = cap.get(cv2.CAP_PROP_FPS)\n",
    "    target_fps = min(frame_rate, fps)\n",
    "    \n",
    "    frames = []\n",
    "    frame_count = 0\n",
    "    while cap.isOpened():\n",
    "        ret, frame = cap.read()\n",
    "        if not ret:\n",
    "            break\n",
    "        \n",
    "        if frame_count % int(frame_rate / target_fps) == 0:\n",
    "            frames.append(frame)\n",
    "        frame_count += 1\n",
    "    \n",
    "    cap.release()\n",
    "    return frames\n",
    "\n",
    "def compute_farneback_optical_flow(frames):\n",
    "    prev_gray = cv2.cvtColor(frames[0], cv2.COLOR_BGR2GRAY)\n",
    "    flow_maps = []\n",
    "    \n",
    "    # Initialize Farneback optical flow parameters\n",
    "    params = dict(\n",
    "        pyr_scale=0.5,\n",
    "        levels=3,\n",
    "        winsize=15,\n",
    "        iterations=3,\n",
    "        poly_n=5,\n",
    "        poly_sigma=1.2,\n",
    "        flags=0\n",
    "    )\n",
    "\n",
    "    for frame in frames[1:]:\n",
    "        gray = cv2.cvtColor(frame, cv2.COLOR_BGR2GRAY)\n",
    "        flow_map = cv2.calcOpticalFlowFarneback(prev_gray, gray, flow=None, **params)\n",
    "        flow_maps.append(flow_map)\n",
    "        prev_gray = gray\n",
    "    return flow_maps\n",
    "\n",
    "def downscale_and_average_flow_maps(flow_maps):\n",
    "    downscaled_maps = [\n",
    "        cv2.resize(\n",
    "            flow, (16, int(flow.shape[0] * (16 / flow.shape[1]))), interpolation=cv2.INTER_AREA\n",
    "        ) \n",
    "        for flow in flow_maps\n",
    "    ]\n",
    "    average_flow_map = np.mean(np.array(downscaled_maps), axis=0)\n",
    "    return np.mean(average_flow_map)"
   ]
  },
  {
   "cell_type": "code",
   "execution_count": 2,
   "id": "5304b3c8-4ca6-49f0-8769-2b5fd508937b",
   "metadata": {},
   "outputs": [],
   "source": [
    "video_path = \"v_BasketballDunk_g14_c06-Scene-002.mp4\"\n",
    "frames = extract_frames(video_path)\n",
    "flow_maps = compute_farneback_optical_flow(frames)\n",
    "motion_score = downscale_and_average_flow_maps(flow_maps)"
   ]
  },
  {
   "cell_type": "code",
   "execution_count": 3,
   "id": "aa1fa0c7-adfa-4e58-8d37-15ce8ceea476",
   "metadata": {},
   "outputs": [
    {
     "name": "stdout",
     "output_type": "stream",
     "text": [
      "Motion Score: -1.2653071\n",
      "Is Static Scene: True\n"
     ]
    }
   ],
   "source": [
    "motion_threshold = 0.1\n",
    "\n",
    "# Filter out static scenes based on the threshold\n",
    "is_static_scene = motion_score < motion_threshold\n",
    "\n",
    "print(\"Motion Score:\", motion_score)\n",
    "print(\"Is Static Scene:\", is_static_scene)"
   ]
  }
 ],
 "metadata": {
  "kernelspec": {
   "display_name": "Python 3 (ipykernel)",
   "language": "python",
   "name": "python3"
  },
  "language_info": {
   "codemirror_mode": {
    "name": "ipython",
    "version": 3
   },
   "file_extension": ".py",
   "mimetype": "text/x-python",
   "name": "python",
   "nbconvert_exporter": "python",
   "pygments_lexer": "ipython3",
   "version": "3.10.12"
  }
 },
 "nbformat": 4,
 "nbformat_minor": 5
}
