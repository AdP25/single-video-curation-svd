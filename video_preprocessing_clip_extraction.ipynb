{
 "cells": [
  {
   "cell_type": "code",
   "execution_count": 1,
   "id": "e687fd12-e877-4fce-bb7b-56a5dbaeef6c",
   "metadata": {},
   "outputs": [],
   "source": [
    "from huggingface_hub import hf_hub_download\n",
    "\n",
    "repo_id = \"sayakpaul/ucf101-subset\"\n",
    "filename = \"v_BasketballDunk_g14_c06.avi\"\n",
    "repo_type = \"dataset\"\n",
    "\n",
    "kwargs = dict(repo_id=repo_id, repo_type=repo_type, filename=filename)\n",
    "video_path = hf_hub_download(**kwargs)"
   ]
  },
  {
   "cell_type": "code",
   "execution_count": 3,
   "id": "744c71f3-9eea-4128-9bf0-06465dcd7000",
   "metadata": {},
   "outputs": [
    {
     "name": "stderr",
     "output_type": "stream",
     "text": [
      "VideoManager is deprecated and will be removed.\n",
      "VideoManager is deprecated and will be removed.\n",
      "VideoManager is deprecated and will be removed.\n"
     ]
    },
    {
     "name": "stdout",
     "output_type": "stream",
     "text": [
      "Scene: 82, 97\n",
      "Scene: 51, 66\n",
      "Scene: 0, 96\n",
      "Scene: 97, 122\n",
      "Scene: 31, 51\n",
      "Scene: 96, 125\n",
      "Scene: 0, 15\n",
      "Scene: 122, 125\n",
      "Scene: 66, 82\n",
      "Scene: 15, 31\n"
     ]
    }
   ],
   "source": [
    "import scenedetect\n",
    "from scenedetect.detectors import ContentDetector, ThresholdDetector\n",
    "from scenedetect.video_manager import VideoManager\n",
    "from scenedetect.scene_manager import SceneManager\n",
    "\n",
    "def detect_scenes(video_path, detector):\n",
    "    # Create a video manager and scene manager\n",
    "    video_manager = VideoManager([video_path])\n",
    "    scene_manager = SceneManager()\n",
    "\n",
    "    # Add the detector to the scene manager\n",
    "    scene_manager.add_detector(detector)\n",
    "\n",
    "    # Set downscale factor to improve processing speed (optional)\n",
    "    video_manager.set_downscale_factor()\n",
    "\n",
    "    # Start the video manager\n",
    "    video_manager.start()\n",
    "\n",
    "    # Detect scenes\n",
    "    scene_manager.detect_scenes(frame_source=video_manager)\n",
    "\n",
    "    # Obtain list of detected scenes\n",
    "    return scene_manager.get_scene_list()\n",
    "\n",
    "# Video path\n",
    "# video_path = \"path/to/your/video.mp4\"\n",
    "\n",
    "# Define three detectors with different thresholds\n",
    "detector1 = ContentDetector(threshold=30)\n",
    "detector2 = ContentDetector(threshold=15)\n",
    "detector3 = ContentDetector(threshold=5)\n",
    "\n",
    "# Detect scenes with each detector\n",
    "scenes1 = detect_scenes(video_path, detector1)\n",
    "scenes2 = detect_scenes(video_path, detector2)\n",
    "scenes3 = detect_scenes(video_path, detector3)\n",
    "\n",
    "# Combine results (this step may require custom logic based on your requirements)\n",
    "combined_scenes = scenes1 + scenes2 + scenes3\n",
    "combined_scenes = list(set(combined_scenes))  # Remove duplicates, if any\n",
    "\n",
    "# Print scene list\n",
    "for scene in combined_scenes:\n",
    "    print(f\"Scene: {scene[0].get_frames()}, {scene[1].get_frames()}\")"
   ]
  },
  {
   "cell_type": "code",
   "execution_count": 4,
   "id": "19a1990f-98bb-4cb8-a99f-ed480b3fca52",
   "metadata": {},
   "outputs": [],
   "source": [
    "import subprocess\n",
    "import re\n",
    "\n",
    "def get_keyframe_timestamps(video_path):\n",
    "    command = [\"ffprobe\", \"-select_streams\", \"v\", \"-show_frames\", \"-show_entries\", \"frame=pict_type\", \"-of\", \"csv\", video_path]\n",
    "    output = subprocess.check_output(command).decode()\n",
    "    \n",
    "    keyframe_timestamps = []\n",
    "    for line in output.split('\\n'):\n",
    "        if 'pict_type=I' in line:\n",
    "            frame_number = int(re.search(r'frame,([0-9]+)', line).group(1))\n",
    "            keyframe_timestamps.append(frame_number)\n",
    "\n",
    "    return keyframe_timestamps"
   ]
  },
  {
   "cell_type": "code",
   "execution_count": 5,
   "id": "18a17ab8-60f2-451a-8c2b-dc45d4be696e",
   "metadata": {},
   "outputs": [],
   "source": [
    "def snap_to_keyframes(cuts, keyframes):\n",
    "    snapped_cuts = []\n",
    "    for start, end in cuts:\n",
    "        start_keyframe = min(keyframes, key=lambda k: abs(k - start))\n",
    "        end_keyframe = min(keyframes, key=lambda k: abs(k - end))\n",
    "        snapped_cuts.append((start_keyframe, end_keyframe))\n",
    "    return snapped_cuts\n",
    "\n",
    "def extract_clips(video_path, cuts, frame_rate):\n",
    "    for i, (start, end) in enumerate(cuts):\n",
    "        start_time = start / frame_rate\n",
    "        end_time = end / frame_rate\n",
    "        duration = end_time - start_time\n",
    "        output_file = f\"clip_{i}.mp4\"\n",
    "        command = [\"ffmpeg\", \"-ss\", str(start_time), \"-i\", video_path, \"-t\", str(duration), \"-c\", \"copy\", output_file]\n",
    "        subprocess.call(command)"
   ]
  },
  {
   "cell_type": "code",
   "execution_count": 6,
   "id": "ad4eaa77-40ff-42f6-ad89-0f14ebb1fd36",
   "metadata": {},
   "outputs": [],
   "source": [
    "def detect_cuts(video_path):\n",
    "    scenes1 = detect_scenes(video_path, detector1)\n",
    "    scenes2 = detect_scenes(video_path, detector2)\n",
    "    scenes3 = detect_scenes(video_path, detector3)\n",
    "    \n",
    "    # Combine results (this step may require custom logic based on your requirements)\n",
    "    combined_scenes = scenes1 + scenes2 + scenes3\n",
    "    combined_scenes = list(set(combined_scenes))  # Remove duplicates, if any\n",
    "    return combined_scenes"
   ]
  },
  {
   "cell_type": "code",
   "execution_count": 7,
   "id": "4fbdde4c-4df7-4172-ad70-691a9f3af688",
   "metadata": {},
   "outputs": [
    {
     "name": "stderr",
     "output_type": "stream",
     "text": [
      "VideoManager is deprecated and will be removed.\n",
      "VideoManager is deprecated and will be removed.\n",
      "VideoManager is deprecated and will be removed.\n",
      "ffprobe version 4.2.7-0ubuntu0.1 Copyright (c) 2007-2022 the FFmpeg developers\n",
      "  built with gcc 9 (Ubuntu 9.4.0-1ubuntu1~20.04.1)\n",
      "  configuration: --prefix=/usr --extra-version=0ubuntu0.1 --toolchain=hardened --libdir=/usr/lib/x86_64-linux-gnu --incdir=/usr/include/x86_64-linux-gnu --arch=amd64 --enable-gpl --disable-stripping --enable-avresample --disable-filter=resample --enable-avisynth --enable-gnutls --enable-ladspa --enable-libaom --enable-libass --enable-libbluray --enable-libbs2b --enable-libcaca --enable-libcdio --enable-libcodec2 --enable-libflite --enable-libfontconfig --enable-libfreetype --enable-libfribidi --enable-libgme --enable-libgsm --enable-libjack --enable-libmp3lame --enable-libmysofa --enable-libopenjpeg --enable-libopenmpt --enable-libopus --enable-libpulse --enable-librsvg --enable-librubberband --enable-libshine --enable-libsnappy --enable-libsoxr --enable-libspeex --enable-libssh --enable-libtheora --enable-libtwolame --enable-libvidstab --enable-libvorbis --enable-libvpx --enable-libwavpack --enable-libwebp --enable-libx265 --enable-libxml2 --enable-libxvid --enable-libzmq --enable-libzvbi --enable-lv2 --enable-omx --enable-openal --enable-opencl --enable-opengl --enable-sdl2 --enable-libdc1394 --enable-libdrm --enable-libiec61883 --enable-nvenc --enable-chromaprint --enable-frei0r --enable-libx264 --enable-shared\n",
      "  libavutil      56. 31.100 / 56. 31.100\n",
      "  libavcodec     58. 54.100 / 58. 54.100\n",
      "  libavformat    58. 29.100 / 58. 29.100\n",
      "  libavdevice    58.  8.100 / 58.  8.100\n",
      "  libavfilter     7. 57.100 /  7. 57.100\n",
      "  libavresample   4.  0.  0 /  4.  0.  0\n",
      "  libswscale      5.  5.100 /  5.  5.100\n",
      "  libswresample   3.  5.100 /  3.  5.100\n",
      "  libpostproc    55.  5.100 / 55.  5.100\n",
      "Input #0, avi, from '/home/sayak/.cache/huggingface/hub/datasets--sayakpaul--ucf101-subset/snapshots/b9984b8d2a95e4a1879e1b071e9433858d0bc24a/v_BasketballDunk_g14_c06.avi':\n",
      "  Metadata:\n",
      "    encoder         : MEncoder r34118-4.2.5\n",
      "  Duration: 00:00:05.00, start: 0.000000, bitrate: 873 kb/s\n",
      "    Stream #0:0: Video: mpeg4 (Simple Profile) (XVID / 0x44495658), yuv420p, 320x240 [SAR 1:1 DAR 4:3], 741 kb/s, 25 fps, 25 tbr, 25 tbn, 25 tbc\n",
      "    Stream #0:1: Audio: mp3 (U[0][0][0] / 0x0055), 44100 Hz, stereo, fltp, 121 kb/s\n"
     ]
    }
   ],
   "source": [
    "# video_path = \"path/to/your/video.mp4\"\n",
    "frame_rate = 25  # Replace with the actual frame rate of your video\n",
    "\n",
    "cuts = detect_cuts(video_path)\n",
    "keyframes = get_keyframe_timestamps(video_path)\n",
    "snapped_cuts = snap_to_keyframes(cuts, keyframes)\n",
    "extract_clips(video_path, snapped_cuts, frame_rate)"
   ]
  }
 ],
 "metadata": {
  "kernelspec": {
   "display_name": "Python 3 (ipykernel)",
   "language": "python",
   "name": "python3"
  },
  "language_info": {
   "codemirror_mode": {
    "name": "ipython",
    "version": 3
   },
   "file_extension": ".py",
   "mimetype": "text/x-python",
   "name": "python",
   "nbconvert_exporter": "python",
   "pygments_lexer": "ipython3",
   "version": "3.10.12"
  }
 },
 "nbformat": 4,
 "nbformat_minor": 5
}
